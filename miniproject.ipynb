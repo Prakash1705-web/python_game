{
 "cells": [
  {
   "cell_type": "code",
   "execution_count": null,
   "id": "a80fc326-f821-48e5-ae9a-039eb45ccd99",
   "metadata": {},
   "outputs": [
    {
     "name": "stdout",
     "output_type": "stream",
     "text": [
      "Choices = [rock,paper,scissor]\n"
     ]
    },
    {
     "name": "stdin",
     "output_type": "stream",
     "text": [
      "Enter your choice:  rock\n"
     ]
    },
    {
     "name": "stdout",
     "output_type": "stream",
     "text": [
      "----------------------------\n",
      "Computer_Choice:  paper\n",
      "Your_Choice:  rock\n",
      "You loose\n",
      "\n",
      "\n",
      "Choices = [rock,paper,scissor]\n"
     ]
    },
    {
     "name": "stdin",
     "output_type": "stream",
     "text": [
      "Enter your choice:  paper\n"
     ]
    },
    {
     "name": "stdout",
     "output_type": "stream",
     "text": [
      "----------------------------\n",
      "Computer_Choice:  paper\n",
      "Your_Choice:  paper\n",
      "The game is tie\n",
      "\n",
      "\n",
      "Choices = [rock,paper,scissor]\n"
     ]
    },
    {
     "name": "stdin",
     "output_type": "stream",
     "text": [
      "Enter your choice:  scissor\n"
     ]
    },
    {
     "name": "stdout",
     "output_type": "stream",
     "text": [
      "----------------------------\n",
      "Computer_Choice:  paper\n",
      "Your_Choice:  scissor\n",
      "You Win\n",
      "\n",
      "\n",
      "Choices = [rock,paper,scissor]\n"
     ]
    }
   ],
   "source": [
    "import random as rd\n",
    "\n",
    "choice = ['rock','paper','scissor']\n",
    "\n",
    "def rock_paper_scissor():\n",
    "    while True:\n",
    "        print(\"Choices = [rock,paper,scissor]\")\n",
    "        user_input = input(\"Enter your choice: \").lower()\n",
    "        computer_choice = rd.choice(choice)\n",
    "        print('----------------------------')\n",
    "        print(\"Computer_Choice: \",computer_choice)\n",
    "        print(\"Your_Choice: \",user_input)\n",
    "\n",
    "        if (computer_choice == user_input):\n",
    "            print(\"The game is tie\")\n",
    "            print('\\n')\n",
    "\n",
    "        elif ( computer_choice=='paper' and user_input=='scissor')or\\\n",
    "             ( computer_choice=='scissor' and user_input=='rock' )or\\\n",
    "             ( computer_choice=='rock' and user_input=='paper' ):\n",
    "            print(\"You Win\")\n",
    "            print('\\n')\n",
    "\n",
    "        \n",
    "        else:\n",
    "            print(\"You loose\")\n",
    "            print('\\n')\n",
    "\n",
    "rock_paper_scissor()  \n"
   ]
  },
  {
   "cell_type": "code",
   "execution_count": null,
   "id": "74ab6ac2-48c6-484e-9e6e-08fe7f927fc5",
   "metadata": {},
   "outputs": [],
   "source": []
  }
 ],
 "metadata": {
  "kernelspec": {
   "display_name": "Python [conda env:base] *",
   "language": "python",
   "name": "conda-base-py"
  },
  "language_info": {
   "codemirror_mode": {
    "name": "ipython",
    "version": 3
   },
   "file_extension": ".py",
   "mimetype": "text/x-python",
   "name": "python",
   "nbconvert_exporter": "python",
   "pygments_lexer": "ipython3",
   "version": "3.13.5"
  }
 },
 "nbformat": 4,
 "nbformat_minor": 5
}
